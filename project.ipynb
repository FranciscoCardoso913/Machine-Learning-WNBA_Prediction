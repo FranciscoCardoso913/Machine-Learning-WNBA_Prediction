{
 "cells": [
  {
   "cell_type": "markdown",
   "metadata": {},
   "source": [
    "# Reading the datasets"
   ]
  },
  {
   "cell_type": "code",
   "metadata": {
    "ExecuteTime": {
     "end_time": "2024-09-29T13:59:04.030720Z",
     "start_time": "2024-09-29T13:59:03.008158Z"
    }
   },
   "source": [
    "import pandas as pd\n",
    "\n",
    "# teams_merged = pd.merge(teams_data, teams_post_data, on=['tmID', 'year'], how='left')\n",
    "\n",
    "awards_players = pd.read_csv('data/awards_players.csv')\n",
    "coaches = pd.read_csv('data/coaches.csv')\n",
    "players_teams = pd.read_csv('data/players_teams.csv')\n",
    "players = pd.read_csv('data/players.csv')\n",
    "series_post = pd.read_csv('data/series_post.csv')\n",
    "teams_post = pd.read_csv('data/teams_post.csv')\n",
    "teams = pd.read_csv('data/teams.csv')\n",
    "\n",
    "pmerged_df = pd.merge(teams, coaches, on='tmID')  # you can also use 'left', 'right', or 'outer' depending on your needsDIDteam_\n",
    "#rint(pmerged_df.head())tmIDplayers"
   ],
   "outputs": [],
   "execution_count": 3
  },
  {
   "cell_type": "markdown",
   "metadata": {},
   "source": [
    "# Clear players"
   ]
  },
  {
   "cell_type": "code",
   "metadata": {
    "ExecuteTime": {
     "end_time": "2024-09-29T13:59:10.590869Z",
     "start_time": "2024-09-29T13:59:10.585440Z"
    }
   },
   "source": [
    "def clean_players():\n",
    "    \n",
    "    pass\n",
    "\n",
    "clean_players()"
   ],
   "outputs": [],
   "execution_count": 4
  },
  {
   "metadata": {},
   "cell_type": "code",
   "outputs": [],
   "execution_count": null,
   "source": ""
  }
 ],
 "metadata": {
  "kernelspec": {
   "display_name": "Python 3",
   "language": "python",
   "name": "python3"
  },
  "language_info": {
   "codemirror_mode": {
    "name": "ipython",
    "version": 3
   },
   "file_extension": ".py",
   "mimetype": "text/x-python",
   "name": "python",
   "nbconvert_exporter": "python",
   "pygments_lexer": "ipython3",
   "version": "3.12.5"
  }
 },
 "nbformat": 4,
 "nbformat_minor": 2
}
